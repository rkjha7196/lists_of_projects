{
 "cells": [
  {
   "cell_type": "markdown",
   "id": "7131626a",
   "metadata": {
    "papermill": {
     "duration": 0.012434,
     "end_time": "2023-08-20T16:37:55.597063",
     "exception": false,
     "start_time": "2023-08-20T16:37:55.584629",
     "status": "completed"
    },
    "tags": []
   },
   "source": [
    "#  Sentiment analysis of Thread app"
   ]
  },
  {
   "cell_type": "markdown",
   "id": "89339394",
   "metadata": {
    "papermill": {
     "duration": 0.011107,
     "end_time": "2023-08-20T16:37:55.619867",
     "exception": false,
     "start_time": "2023-08-20T16:37:55.608760",
     "status": "completed"
    },
    "tags": []
   },
   "source": [
    "# Importing necessaries libraries"
   ]
  },
  {
   "cell_type": "code",
   "execution_count": 4,
   "id": "a1969f63",
   "metadata": {
    "_cell_guid": "b1076dfc-b9ad-4769-8c92-a6c4dae69d19",
    "_uuid": "8f2839f25d086af736a60e9eeb907d3b93b6e0e5",
    "execution": {
     "iopub.execute_input": "2023-08-20T16:37:55.644417Z",
     "iopub.status.busy": "2023-08-20T16:37:55.644005Z",
     "iopub.status.idle": "2023-08-20T16:37:58.162855Z",
     "shell.execute_reply": "2023-08-20T16:37:58.161326Z"
    },
    "papermill": {
     "duration": 2.534631,
     "end_time": "2023-08-20T16:37:58.165905",
     "exception": false,
     "start_time": "2023-08-20T16:37:55.631274",
     "status": "completed"
    },
    "tags": []
   },
   "outputs": [],
   "source": [
    "import numpy as np\n",
    "import pandas as pd\n",
    "from  textblob import TextBlob\n",
    "import seaborn as sns\n",
    "import warnings\n",
    "warnings.filterwarnings('ignore')"
   ]
  },
  {
   "cell_type": "markdown",
   "id": "34c382a9",
   "metadata": {
    "papermill": {
     "duration": 0.011296,
     "end_time": "2023-08-20T16:37:58.189302",
     "exception": false,
     "start_time": "2023-08-20T16:37:58.178006",
     "status": "completed"
    },
    "tags": []
   },
   "source": [
    "# Importing dataset"
   ]
  },
  {
   "cell_type": "code",
   "execution_count": 6,
   "id": "eb4283c1",
   "metadata": {
    "execution": {
     "iopub.execute_input": "2023-08-20T16:37:58.219774Z",
     "iopub.status.busy": "2023-08-20T16:37:58.219038Z",
     "iopub.status.idle": "2023-08-20T16:37:58.635468Z",
     "shell.execute_reply": "2023-08-20T16:37:58.634262Z"
    },
    "papermill": {
     "duration": 0.435469,
     "end_time": "2023-08-20T16:37:58.638254",
     "exception": false,
     "start_time": "2023-08-20T16:37:58.202785",
     "status": "completed"
    },
    "tags": []
   },
   "outputs": [
    {
     "data": {
      "text/html": [
       "<div>\n",
       "<style scoped>\n",
       "    .dataframe tbody tr th:only-of-type {\n",
       "        vertical-align: middle;\n",
       "    }\n",
       "\n",
       "    .dataframe tbody tr th {\n",
       "        vertical-align: top;\n",
       "    }\n",
       "\n",
       "    .dataframe thead th {\n",
       "        text-align: right;\n",
       "    }\n",
       "</style>\n",
       "<table border=\"1\" class=\"dataframe\">\n",
       "  <thead>\n",
       "    <tr style=\"text-align: right;\">\n",
       "      <th></th>\n",
       "      <th>Unnamed: 0</th>\n",
       "      <th>source</th>\n",
       "      <th>review_id</th>\n",
       "      <th>user_name</th>\n",
       "      <th>review_title</th>\n",
       "      <th>review_description</th>\n",
       "      <th>rating</th>\n",
       "      <th>thumbs_up</th>\n",
       "      <th>review_date</th>\n",
       "      <th>developer_response</th>\n",
       "      <th>developer_response_date</th>\n",
       "      <th>appVersion</th>\n",
       "      <th>laguage_code</th>\n",
       "      <th>country_code</th>\n",
       "    </tr>\n",
       "  </thead>\n",
       "  <tbody>\n",
       "    <tr>\n",
       "      <th>0</th>\n",
       "      <td>0</td>\n",
       "      <td>Google Play</td>\n",
       "      <td>7cd90e5b-4829-43b9-9fb4-c8c6d1e339c1</td>\n",
       "      <td>Eddie Clark Jr.</td>\n",
       "      <td>NaN</td>\n",
       "      <td>Good</td>\n",
       "      <td>5</td>\n",
       "      <td>0.0</td>\n",
       "      <td>2023-08-07 19:14:36</td>\n",
       "      <td>NaN</td>\n",
       "      <td>NaN</td>\n",
       "      <td>294.0.0.27.110</td>\n",
       "      <td>en</td>\n",
       "      <td>us</td>\n",
       "    </tr>\n",
       "    <tr>\n",
       "      <th>1</th>\n",
       "      <td>1</td>\n",
       "      <td>Google Play</td>\n",
       "      <td>6deb8265-2bac-4524-bcb6-f90829fa4e69</td>\n",
       "      <td>Rasa RT</td>\n",
       "      <td>NaN</td>\n",
       "      <td>Weak copy of Twitter</td>\n",
       "      <td>1</td>\n",
       "      <td>0.0</td>\n",
       "      <td>2023-08-07 19:07:04</td>\n",
       "      <td>NaN</td>\n",
       "      <td>NaN</td>\n",
       "      <td>NaN</td>\n",
       "      <td>en</td>\n",
       "      <td>us</td>\n",
       "    </tr>\n",
       "    <tr>\n",
       "      <th>2</th>\n",
       "      <td>2</td>\n",
       "      <td>Google Play</td>\n",
       "      <td>91ef61ce-0f05-4f3b-b3d3-5d19cd408ab8</td>\n",
       "      <td>SITI NUR HAFIZA BINTI AZIZ</td>\n",
       "      <td>NaN</td>\n",
       "      <td>i wish threads have a save button for images a...</td>\n",
       "      <td>3</td>\n",
       "      <td>0.0</td>\n",
       "      <td>2023-08-07 18:57:07</td>\n",
       "      <td>NaN</td>\n",
       "      <td>NaN</td>\n",
       "      <td>294.0.0.27.110</td>\n",
       "      <td>en</td>\n",
       "      <td>us</td>\n",
       "    </tr>\n",
       "    <tr>\n",
       "      <th>3</th>\n",
       "      <td>3</td>\n",
       "      <td>Google Play</td>\n",
       "      <td>b7721b78-6b77-4f8c-a1d3-a854af4c1f0f</td>\n",
       "      <td>Asap Khalifah</td>\n",
       "      <td>NaN</td>\n",
       "      <td>Love it</td>\n",
       "      <td>5</td>\n",
       "      <td>0.0</td>\n",
       "      <td>2023-08-07 18:37:16</td>\n",
       "      <td>NaN</td>\n",
       "      <td>NaN</td>\n",
       "      <td>NaN</td>\n",
       "      <td>en</td>\n",
       "      <td>us</td>\n",
       "    </tr>\n",
       "    <tr>\n",
       "      <th>4</th>\n",
       "      <td>4</td>\n",
       "      <td>Google Play</td>\n",
       "      <td>c89ef522-c94c-4171-878f-1d672dce7f11</td>\n",
       "      <td>Syed Hussein</td>\n",
       "      <td>NaN</td>\n",
       "      <td>Very god</td>\n",
       "      <td>5</td>\n",
       "      <td>0.0</td>\n",
       "      <td>2023-08-07 18:14:15</td>\n",
       "      <td>NaN</td>\n",
       "      <td>NaN</td>\n",
       "      <td>NaN</td>\n",
       "      <td>en</td>\n",
       "      <td>us</td>\n",
       "    </tr>\n",
       "    <tr>\n",
       "      <th>...</th>\n",
       "      <td>...</td>\n",
       "      <td>...</td>\n",
       "      <td>...</td>\n",
       "      <td>...</td>\n",
       "      <td>...</td>\n",
       "      <td>...</td>\n",
       "      <td>...</td>\n",
       "      <td>...</td>\n",
       "      <td>...</td>\n",
       "      <td>...</td>\n",
       "      <td>...</td>\n",
       "      <td>...</td>\n",
       "      <td>...</td>\n",
       "      <td>...</td>\n",
       "    </tr>\n",
       "    <tr>\n",
       "      <th>36938</th>\n",
       "      <td>1995</td>\n",
       "      <td>App Store</td>\n",
       "      <td>d0503900-7c8b-4cf3-8f16-1a628f25d99b</td>\n",
       "      <td>Ileila888</td>\n",
       "      <td>Hybrid of IG and Twitter with 0 UVP</td>\n",
       "      <td>Threads have mediocre UX with 0 unique value p...</td>\n",
       "      <td>2</td>\n",
       "      <td>NaN</td>\n",
       "      <td>2023-07-06 00:37:57</td>\n",
       "      <td>NaN</td>\n",
       "      <td>NaN</td>\n",
       "      <td>NaN</td>\n",
       "      <td>en</td>\n",
       "      <td>us</td>\n",
       "    </tr>\n",
       "    <tr>\n",
       "      <th>36939</th>\n",
       "      <td>1996</td>\n",
       "      <td>App Store</td>\n",
       "      <td>d55529a3-42b9-4a55-a17c-b49f30d7b419</td>\n",
       "      <td>MaxW239</td>\n",
       "      <td>Outstanding</td>\n",
       "      <td>Twitter (Instagram’s Version)</td>\n",
       "      <td>5</td>\n",
       "      <td>NaN</td>\n",
       "      <td>2023-07-06 00:00:39</td>\n",
       "      <td>NaN</td>\n",
       "      <td>NaN</td>\n",
       "      <td>NaN</td>\n",
       "      <td>en</td>\n",
       "      <td>us</td>\n",
       "    </tr>\n",
       "    <tr>\n",
       "      <th>36940</th>\n",
       "      <td>1997</td>\n",
       "      <td>App Store</td>\n",
       "      <td>8818ddd0-1ce4-4d82-b0df-b43a6c68ff81</td>\n",
       "      <td>Anne Marie C</td>\n",
       "      <td>Let the battle begin!</td>\n",
       "      <td>😂😂😂</td>\n",
       "      <td>5</td>\n",
       "      <td>NaN</td>\n",
       "      <td>2023-07-05 23:16:15</td>\n",
       "      <td>NaN</td>\n",
       "      <td>NaN</td>\n",
       "      <td>NaN</td>\n",
       "      <td>en</td>\n",
       "      <td>us</td>\n",
       "    </tr>\n",
       "    <tr>\n",
       "      <th>36941</th>\n",
       "      <td>1998</td>\n",
       "      <td>App Store</td>\n",
       "      <td>81561238-d8c1-467d-b9dc-be25d64a1aa7</td>\n",
       "      <td>alexcookiedough92</td>\n",
       "      <td>No search bar??</td>\n",
       "      <td>How do you expect a social media app to succee...</td>\n",
       "      <td>1</td>\n",
       "      <td>NaN</td>\n",
       "      <td>2023-08-06 12:31:54</td>\n",
       "      <td>NaN</td>\n",
       "      <td>NaN</td>\n",
       "      <td>NaN</td>\n",
       "      <td>en</td>\n",
       "      <td>us</td>\n",
       "    </tr>\n",
       "    <tr>\n",
       "      <th>36942</th>\n",
       "      <td>1999</td>\n",
       "      <td>App Store</td>\n",
       "      <td>af10f81b-c974-401f-8668-a3fbd79667be</td>\n",
       "      <td>cncfan</td>\n",
       "      <td>Needs new features</td>\n",
       "      <td>Desperately needs new features.</td>\n",
       "      <td>2</td>\n",
       "      <td>NaN</td>\n",
       "      <td>2023-08-01 06:37:45</td>\n",
       "      <td>NaN</td>\n",
       "      <td>NaN</td>\n",
       "      <td>NaN</td>\n",
       "      <td>en</td>\n",
       "      <td>us</td>\n",
       "    </tr>\n",
       "  </tbody>\n",
       "</table>\n",
       "<p>36943 rows × 14 columns</p>\n",
       "</div>"
      ],
      "text/plain": [
       "       Unnamed: 0       source                             review_id  \\\n",
       "0               0  Google Play  7cd90e5b-4829-43b9-9fb4-c8c6d1e339c1   \n",
       "1               1  Google Play  6deb8265-2bac-4524-bcb6-f90829fa4e69   \n",
       "2               2  Google Play  91ef61ce-0f05-4f3b-b3d3-5d19cd408ab8   \n",
       "3               3  Google Play  b7721b78-6b77-4f8c-a1d3-a854af4c1f0f   \n",
       "4               4  Google Play  c89ef522-c94c-4171-878f-1d672dce7f11   \n",
       "...           ...          ...                                   ...   \n",
       "36938        1995    App Store  d0503900-7c8b-4cf3-8f16-1a628f25d99b   \n",
       "36939        1996    App Store  d55529a3-42b9-4a55-a17c-b49f30d7b419   \n",
       "36940        1997    App Store  8818ddd0-1ce4-4d82-b0df-b43a6c68ff81   \n",
       "36941        1998    App Store  81561238-d8c1-467d-b9dc-be25d64a1aa7   \n",
       "36942        1999    App Store  af10f81b-c974-401f-8668-a3fbd79667be   \n",
       "\n",
       "                        user_name                         review_title  \\\n",
       "0                 Eddie Clark Jr.                                  NaN   \n",
       "1                         Rasa RT                                  NaN   \n",
       "2      SITI NUR HAFIZA BINTI AZIZ                                  NaN   \n",
       "3                   Asap Khalifah                                  NaN   \n",
       "4                    Syed Hussein                                  NaN   \n",
       "...                           ...                                  ...   \n",
       "36938                   Ileila888  Hybrid of IG and Twitter with 0 UVP   \n",
       "36939                     MaxW239                          Outstanding   \n",
       "36940                Anne Marie C                Let the battle begin!   \n",
       "36941           alexcookiedough92                      No search bar??   \n",
       "36942                      cncfan                   Needs new features   \n",
       "\n",
       "                                      review_description  rating  thumbs_up  \\\n",
       "0                                                   Good       5        0.0   \n",
       "1                                   Weak copy of Twitter       1        0.0   \n",
       "2      i wish threads have a save button for images a...       3        0.0   \n",
       "3                                                Love it       5        0.0   \n",
       "4                                               Very god       5        0.0   \n",
       "...                                                  ...     ...        ...   \n",
       "36938  Threads have mediocre UX with 0 unique value p...       2        NaN   \n",
       "36939                      Twitter (Instagram’s Version)       5        NaN   \n",
       "36940                                                😂😂😂       5        NaN   \n",
       "36941  How do you expect a social media app to succee...       1        NaN   \n",
       "36942                    Desperately needs new features.       2        NaN   \n",
       "\n",
       "               review_date  developer_response  developer_response_date  \\\n",
       "0      2023-08-07 19:14:36                 NaN                      NaN   \n",
       "1      2023-08-07 19:07:04                 NaN                      NaN   \n",
       "2      2023-08-07 18:57:07                 NaN                      NaN   \n",
       "3      2023-08-07 18:37:16                 NaN                      NaN   \n",
       "4      2023-08-07 18:14:15                 NaN                      NaN   \n",
       "...                    ...                 ...                      ...   \n",
       "36938  2023-07-06 00:37:57                 NaN                      NaN   \n",
       "36939  2023-07-06 00:00:39                 NaN                      NaN   \n",
       "36940  2023-07-05 23:16:15                 NaN                      NaN   \n",
       "36941  2023-08-06 12:31:54                 NaN                      NaN   \n",
       "36942  2023-08-01 06:37:45                 NaN                      NaN   \n",
       "\n",
       "           appVersion laguage_code country_code  \n",
       "0      294.0.0.27.110           en           us  \n",
       "1                 NaN           en           us  \n",
       "2      294.0.0.27.110           en           us  \n",
       "3                 NaN           en           us  \n",
       "4                 NaN           en           us  \n",
       "...               ...          ...          ...  \n",
       "36938             NaN           en           us  \n",
       "36939             NaN           en           us  \n",
       "36940             NaN           en           us  \n",
       "36941             NaN           en           us  \n",
       "36942             NaN           en           us  \n",
       "\n",
       "[36943 rows x 14 columns]"
      ]
     },
     "execution_count": 6,
     "metadata": {},
     "output_type": "execute_result"
    }
   ],
   "source": [
    "df = pd.read_csv(r'C:\\Users\\Lenovo\\Downloads\\dataset\\37000_reviews_of_thread_app.csv')\n",
    "df"
   ]
  },
  {
   "cell_type": "markdown",
   "id": "0a0d2f6d",
   "metadata": {
    "papermill": {
     "duration": 0.012215,
     "end_time": "2023-08-20T16:37:58.662805",
     "exception": false,
     "start_time": "2023-08-20T16:37:58.650590",
     "status": "completed"
    },
    "tags": []
   },
   "source": [
    "# Shape of dataset"
   ]
  },
  {
   "cell_type": "code",
   "execution_count": 7,
   "id": "e3cfc795",
   "metadata": {
    "execution": {
     "iopub.execute_input": "2023-08-20T16:37:58.689591Z",
     "iopub.status.busy": "2023-08-20T16:37:58.688935Z",
     "iopub.status.idle": "2023-08-20T16:37:58.694333Z",
     "shell.execute_reply": "2023-08-20T16:37:58.693163Z"
    },
    "papermill": {
     "duration": 0.021594,
     "end_time": "2023-08-20T16:37:58.696723",
     "exception": false,
     "start_time": "2023-08-20T16:37:58.675129",
     "status": "completed"
    },
    "tags": []
   },
   "outputs": [
    {
     "name": "stdout",
     "output_type": "stream",
     "text": [
      "There are 36943 rows and 14 columns in dataset\n"
     ]
    }
   ],
   "source": [
    "rows, cols = df.shape\n",
    "print(f'There are {rows} rows and {cols} columns in dataset')"
   ]
  },
  {
   "cell_type": "code",
   "execution_count": null,
   "id": "205dd82e",
   "metadata": {},
   "outputs": [],
   "source": [
    "rows, cols = df.shape\n",
    "print(f'There are {rows} rows and {cols} columns in dataset')\n",
    "print(f\"There are {df.duplicated().sum()} duplicate values\")\n",
    "df.isna().sum()\n",
    "df['rating'].value_counts()"
   ]
  },
  {
   "cell_type": "markdown",
   "id": "4915e4b1",
   "metadata": {
    "papermill": {
     "duration": 0.012156,
     "end_time": "2023-08-20T16:37:58.721665",
     "exception": false,
     "start_time": "2023-08-20T16:37:58.709509",
     "status": "completed"
    },
    "tags": []
   },
   "source": [
    "# Identify and remove duplicate values"
   ]
  },
  {
   "cell_type": "code",
   "execution_count": 8,
   "id": "66c6d218",
   "metadata": {
    "execution": {
     "iopub.execute_input": "2023-08-20T16:37:58.748728Z",
     "iopub.status.busy": "2023-08-20T16:37:58.747816Z",
     "iopub.status.idle": "2023-08-20T16:37:58.835882Z",
     "shell.execute_reply": "2023-08-20T16:37:58.834342Z"
    },
    "papermill": {
     "duration": 0.104782,
     "end_time": "2023-08-20T16:37:58.838902",
     "exception": false,
     "start_time": "2023-08-20T16:37:58.734120",
     "status": "completed"
    },
    "tags": []
   },
   "outputs": [
    {
     "name": "stdout",
     "output_type": "stream",
     "text": [
      "There are 0 duplicate values\n"
     ]
    }
   ],
   "source": [
    "print(f\"There are {df.duplicated().sum()} duplicate values\")"
   ]
  },
  {
   "cell_type": "markdown",
   "id": "039bf041",
   "metadata": {
    "papermill": {
     "duration": 0.012178,
     "end_time": "2023-08-20T16:37:58.863796",
     "exception": false,
     "start_time": "2023-08-20T16:37:58.851618",
     "status": "completed"
    },
    "tags": []
   },
   "source": [
    "# Identify and remove null values"
   ]
  },
  {
   "cell_type": "code",
   "execution_count": 9,
   "id": "b61421a9",
   "metadata": {
    "execution": {
     "iopub.execute_input": "2023-08-20T16:37:58.891268Z",
     "iopub.status.busy": "2023-08-20T16:37:58.890069Z",
     "iopub.status.idle": "2023-08-20T16:37:59.007299Z",
     "shell.execute_reply": "2023-08-20T16:37:59.006273Z"
    },
    "papermill": {
     "duration": 0.133749,
     "end_time": "2023-08-20T16:37:59.009952",
     "exception": false,
     "start_time": "2023-08-20T16:37:58.876203",
     "status": "completed"
    },
    "tags": []
   },
   "outputs": [
    {
     "data": {
      "text/plain": [
       "Unnamed: 0                     0\n",
       "source                         0\n",
       "review_id                      0\n",
       "user_name                      0\n",
       "review_title               34943\n",
       "review_description             0\n",
       "rating                         0\n",
       "thumbs_up                   2000\n",
       "review_date                    0\n",
       "developer_response         36943\n",
       "developer_response_date    36943\n",
       "appVersion                 12088\n",
       "laguage_code                   0\n",
       "country_code                   0\n",
       "dtype: int64"
      ]
     },
     "execution_count": 9,
     "metadata": {},
     "output_type": "execute_result"
    }
   ],
   "source": [
    "df.isna().sum()"
   ]
  },
  {
   "cell_type": "code",
   "execution_count": 28,
   "id": "2a2cf6b4",
   "metadata": {},
   "outputs": [
    {
     "data": {
      "text/plain": [
       "5    17000\n",
       "1    11282\n",
       "4     3588\n",
       "3     2956\n",
       "2     2117\n",
       "Name: rating, dtype: int64"
      ]
     },
     "execution_count": 28,
     "metadata": {},
     "output_type": "execute_result"
    }
   ],
   "source": [
    "df['rating'].value_counts()"
   ]
  },
  {
   "cell_type": "code",
   "execution_count": 29,
   "id": "9d860898",
   "metadata": {},
   "outputs": [
    {
     "data": {
      "text/plain": [
       "0.0      30611\n",
       "1.0       2889\n",
       "2.0        520\n",
       "3.0        193\n",
       "4.0        124\n",
       "         ...  \n",
       "164.0        1\n",
       "91.0         1\n",
       "547.0        1\n",
       "268.0        1\n",
       "114.0        1\n",
       "Name: thumbs_up, Length: 149, dtype: int64"
      ]
     },
     "execution_count": 29,
     "metadata": {},
     "output_type": "execute_result"
    }
   ],
   "source": [
    "df['thumbs_up'].value_counts()"
   ]
  },
  {
   "cell_type": "code",
   "execution_count": 30,
   "id": "34cde201",
   "metadata": {},
   "outputs": [
    {
     "data": {
      "text/plain": [
       "<AxesSubplot: title={'center': 'count for ratings'}>"
      ]
     },
     "execution_count": 30,
     "metadata": {},
     "output_type": "execute_result"
    },
    {
     "data": {
      "image/png": "[encoded data removed]",
      "text/plain": [
       "<Figure size 640x480 with 1 Axes>"
      ]
     },
     "metadata": {},
     "output_type": "display_data"
    }
   ],
   "source": [
    "df['rating'].value_counts().sort_index().plot(kind='bar',title = 'count for ratings')"
   ]
  },
  {
   "cell_type": "code",
   "execution_count": null,
   "id": "c02f1ba1",
   "metadata": {},
   "outputs": [],
   "source": []
  },
  {
   "cell_type": "code",
   "execution_count": null,
   "id": "efa0d403",
   "metadata": {},
   "outputs": [],
   "source": []
  },
  {
   "cell_type": "markdown",
   "id": "e3553765",
   "metadata": {
    "papermill": {
     "duration": 0.012463,
     "end_time": "2023-08-20T16:37:59.035219",
     "exception": false,
     "start_time": "2023-08-20T16:37:59.022756",
     "status": "completed"
    },
    "tags": []
   },
   "source": [
    "# Droping unnecessary columns"
   ]
  },
  {
   "cell_type": "code",
   "execution_count": 10,
   "id": "96059471",
   "metadata": {
    "execution": {
     "iopub.execute_input": "2023-08-20T16:37:59.062290Z",
     "iopub.status.busy": "2023-08-20T16:37:59.061862Z",
     "iopub.status.idle": "2023-08-20T16:37:59.076611Z",
     "shell.execute_reply": "2023-08-20T16:37:59.075536Z"
    },
    "papermill": {
     "duration": 0.031139,
     "end_time": "2023-08-20T16:37:59.079028",
     "exception": false,
     "start_time": "2023-08-20T16:37:59.047889",
     "status": "completed"
    },
    "tags": []
   },
   "outputs": [],
   "source": [
    "df.drop(['review_title','developer_response','developer_response_date','review_id','user_name','appVersion','appVersion','laguage_code','country_code','review_date','Unnamed: 0'],axis=1,inplace = True)"
   ]
  },
  {
   "cell_type": "markdown",
   "id": "a8eb5a94",
   "metadata": {
    "papermill": {
     "duration": 0.012445,
     "end_time": "2023-08-20T16:37:59.104145",
     "exception": false,
     "start_time": "2023-08-20T16:37:59.091700",
     "status": "completed"
    },
    "tags": []
   },
   "source": [
    "# Reset the index of dataset"
   ]
  },
  {
   "cell_type": "code",
   "execution_count": 11,
   "id": "a4a21cfd",
   "metadata": {
    "execution": {
     "iopub.execute_input": "2023-08-20T16:37:59.131151Z",
     "iopub.status.busy": "2023-08-20T16:37:59.130671Z",
     "iopub.status.idle": "2023-08-20T16:37:59.136420Z",
     "shell.execute_reply": "2023-08-20T16:37:59.135251Z"
    },
    "papermill": {
     "duration": 0.021868,
     "end_time": "2023-08-20T16:37:59.138755",
     "exception": false,
     "start_time": "2023-08-20T16:37:59.116887",
     "status": "completed"
    },
    "tags": []
   },
   "outputs": [],
   "source": [
    "df.reset_index(drop=True,inplace=True)"
   ]
  },
  {
   "cell_type": "code",
   "execution_count": 12,
   "id": "33bf3828",
   "metadata": {
    "execution": {
     "iopub.execute_input": "2023-08-20T16:37:59.167329Z",
     "iopub.status.busy": "2023-08-20T16:37:59.166424Z",
     "iopub.status.idle": "2023-08-20T16:37:59.179306Z",
     "shell.execute_reply": "2023-08-20T16:37:59.178234Z"
    },
    "papermill": {
     "duration": 0.030138,
     "end_time": "2023-08-20T16:37:59.181665",
     "exception": false,
     "start_time": "2023-08-20T16:37:59.151527",
     "status": "completed"
    },
    "tags": []
   },
   "outputs": [
    {
     "data": {
      "text/html": [
       "<div>\n",
       "<style scoped>\n",
       "    .dataframe tbody tr th:only-of-type {\n",
       "        vertical-align: middle;\n",
       "    }\n",
       "\n",
       "    .dataframe tbody tr th {\n",
       "        vertical-align: top;\n",
       "    }\n",
       "\n",
       "    .dataframe thead th {\n",
       "        text-align: right;\n",
       "    }\n",
       "</style>\n",
       "<table border=\"1\" class=\"dataframe\">\n",
       "  <thead>\n",
       "    <tr style=\"text-align: right;\">\n",
       "      <th></th>\n",
       "      <th>source</th>\n",
       "      <th>review_description</th>\n",
       "      <th>rating</th>\n",
       "      <th>thumbs_up</th>\n",
       "    </tr>\n",
       "  </thead>\n",
       "  <tbody>\n",
       "    <tr>\n",
       "      <th>0</th>\n",
       "      <td>Google Play</td>\n",
       "      <td>Good</td>\n",
       "      <td>5</td>\n",
       "      <td>0.0</td>\n",
       "    </tr>\n",
       "    <tr>\n",
       "      <th>1</th>\n",
       "      <td>Google Play</td>\n",
       "      <td>Weak copy of Twitter</td>\n",
       "      <td>1</td>\n",
       "      <td>0.0</td>\n",
       "    </tr>\n",
       "    <tr>\n",
       "      <th>2</th>\n",
       "      <td>Google Play</td>\n",
       "      <td>i wish threads have a save button for images a...</td>\n",
       "      <td>3</td>\n",
       "      <td>0.0</td>\n",
       "    </tr>\n",
       "    <tr>\n",
       "      <th>3</th>\n",
       "      <td>Google Play</td>\n",
       "      <td>Love it</td>\n",
       "      <td>5</td>\n",
       "      <td>0.0</td>\n",
       "    </tr>\n",
       "    <tr>\n",
       "      <th>4</th>\n",
       "      <td>Google Play</td>\n",
       "      <td>Very god</td>\n",
       "      <td>5</td>\n",
       "      <td>0.0</td>\n",
       "    </tr>\n",
       "  </tbody>\n",
       "</table>\n",
       "</div>"
      ],
      "text/plain": [
       "        source                                 review_description  rating  \\\n",
       "0  Google Play                                               Good       5   \n",
       "1  Google Play                               Weak copy of Twitter       1   \n",
       "2  Google Play  i wish threads have a save button for images a...       3   \n",
       "3  Google Play                                            Love it       5   \n",
       "4  Google Play                                           Very god       5   \n",
       "\n",
       "   thumbs_up  \n",
       "0        0.0  \n",
       "1        0.0  \n",
       "2        0.0  \n",
       "3        0.0  \n",
       "4        0.0  "
      ]
     },
     "execution_count": 12,
     "metadata": {},
     "output_type": "execute_result"
    }
   ],
   "source": [
    "df.head()"
   ]
  },
  {
   "cell_type": "markdown",
   "id": "062057fa",
   "metadata": {
    "papermill": {
     "duration": 0.014556,
     "end_time": "2023-08-20T16:37:59.209178",
     "exception": false,
     "start_time": "2023-08-20T16:37:59.194622",
     "status": "completed"
    },
    "tags": []
   },
   "source": [
    "# Dataset Description "
   ]
  },
  {
   "cell_type": "code",
   "execution_count": 13,
   "id": "ffd1698f",
   "metadata": {
    "execution": {
     "iopub.execute_input": "2023-08-20T16:37:59.238052Z",
     "iopub.status.busy": "2023-08-20T16:37:59.237223Z",
     "iopub.status.idle": "2023-08-20T16:37:59.281806Z",
     "shell.execute_reply": "2023-08-20T16:37:59.280223Z"
    },
    "papermill": {
     "duration": 0.0616,
     "end_time": "2023-08-20T16:37:59.284361",
     "exception": false,
     "start_time": "2023-08-20T16:37:59.222761",
     "status": "completed"
    },
    "tags": []
   },
   "outputs": [
    {
     "name": "stdout",
     "output_type": "stream",
     "text": [
      "<class 'pandas.core.frame.DataFrame'>\n",
      "RangeIndex: 36943 entries, 0 to 36942\n",
      "Data columns (total 4 columns):\n",
      " #   Column              Non-Null Count  Dtype  \n",
      "---  ------              --------------  -----  \n",
      " 0   source              36943 non-null  object \n",
      " 1   review_description  36943 non-null  object \n",
      " 2   rating              36943 non-null  int64  \n",
      " 3   thumbs_up           34943 non-null  float64\n",
      "dtypes: float64(1), int64(1), object(2)\n",
      "memory usage: 1.1+ MB\n"
     ]
    }
   ],
   "source": [
    "df.info()"
   ]
  },
  {
   "cell_type": "code",
   "execution_count": 14,
   "id": "452d483e",
   "metadata": {
    "execution": {
     "iopub.execute_input": "2023-08-20T16:37:59.313591Z",
     "iopub.status.busy": "2023-08-20T16:37:59.312869Z",
     "iopub.status.idle": "2023-08-20T16:37:59.342779Z",
     "shell.execute_reply": "2023-08-20T16:37:59.341929Z"
    },
    "papermill": {
     "duration": 0.047529,
     "end_time": "2023-08-20T16:37:59.345279",
     "exception": false,
     "start_time": "2023-08-20T16:37:59.297750",
     "status": "completed"
    },
    "tags": []
   },
   "outputs": [
    {
     "data": {
      "text/html": [
       "<div>\n",
       "<style scoped>\n",
       "    .dataframe tbody tr th:only-of-type {\n",
       "        vertical-align: middle;\n",
       "    }\n",
       "\n",
       "    .dataframe tbody tr th {\n",
       "        vertical-align: top;\n",
       "    }\n",
       "\n",
       "    .dataframe thead th {\n",
       "        text-align: right;\n",
       "    }\n",
       "</style>\n",
       "<table border=\"1\" class=\"dataframe\">\n",
       "  <thead>\n",
       "    <tr style=\"text-align: right;\">\n",
       "      <th></th>\n",
       "      <th>count</th>\n",
       "      <th>mean</th>\n",
       "      <th>std</th>\n",
       "      <th>min</th>\n",
       "      <th>25%</th>\n",
       "      <th>50%</th>\n",
       "      <th>75%</th>\n",
       "      <th>max</th>\n",
       "    </tr>\n",
       "  </thead>\n",
       "  <tbody>\n",
       "    <tr>\n",
       "      <th>rating</th>\n",
       "      <td>36943.0</td>\n",
       "      <td>3.349376</td>\n",
       "      <td>1.759170</td>\n",
       "      <td>1.0</td>\n",
       "      <td>1.0</td>\n",
       "      <td>4.0</td>\n",
       "      <td>5.0</td>\n",
       "      <td>5.0</td>\n",
       "    </tr>\n",
       "    <tr>\n",
       "      <th>thumbs_up</th>\n",
       "      <td>34943.0</td>\n",
       "      <td>1.816845</td>\n",
       "      <td>58.538839</td>\n",
       "      <td>0.0</td>\n",
       "      <td>0.0</td>\n",
       "      <td>0.0</td>\n",
       "      <td>0.0</td>\n",
       "      <td>5557.0</td>\n",
       "    </tr>\n",
       "  </tbody>\n",
       "</table>\n",
       "</div>"
      ],
      "text/plain": [
       "             count      mean        std  min  25%  50%  75%     max\n",
       "rating     36943.0  3.349376   1.759170  1.0  1.0  4.0  5.0     5.0\n",
       "thumbs_up  34943.0  1.816845  58.538839  0.0  0.0  0.0  0.0  5557.0"
      ]
     },
     "execution_count": 14,
     "metadata": {},
     "output_type": "execute_result"
    }
   ],
   "source": [
    "df.describe().T"
   ]
  },
  {
   "cell_type": "code",
   "execution_count": 15,
   "id": "41abcdc6",
   "metadata": {
    "execution": {
     "iopub.execute_input": "2023-08-20T16:37:59.374437Z",
     "iopub.status.busy": "2023-08-20T16:37:59.373109Z",
     "iopub.status.idle": "2023-08-20T16:37:59.434439Z",
     "shell.execute_reply": "2023-08-20T16:37:59.432925Z"
    },
    "papermill": {
     "duration": 0.078599,
     "end_time": "2023-08-20T16:37:59.437237",
     "exception": false,
     "start_time": "2023-08-20T16:37:59.358638",
     "status": "completed"
    },
    "tags": []
   },
   "outputs": [
    {
     "data": {
      "text/html": [
       "<div>\n",
       "<style scoped>\n",
       "    .dataframe tbody tr th:only-of-type {\n",
       "        vertical-align: middle;\n",
       "    }\n",
       "\n",
       "    .dataframe tbody tr th {\n",
       "        vertical-align: top;\n",
       "    }\n",
       "\n",
       "    .dataframe thead th {\n",
       "        text-align: right;\n",
       "    }\n",
       "</style>\n",
       "<table border=\"1\" class=\"dataframe\">\n",
       "  <thead>\n",
       "    <tr style=\"text-align: right;\">\n",
       "      <th></th>\n",
       "      <th>count</th>\n",
       "      <th>unique</th>\n",
       "      <th>top</th>\n",
       "      <th>freq</th>\n",
       "    </tr>\n",
       "  </thead>\n",
       "  <tbody>\n",
       "    <tr>\n",
       "      <th>source</th>\n",
       "      <td>36943</td>\n",
       "      <td>2</td>\n",
       "      <td>Google Play</td>\n",
       "      <td>34943</td>\n",
       "    </tr>\n",
       "    <tr>\n",
       "      <th>review_description</th>\n",
       "      <td>36943</td>\n",
       "      <td>30086</td>\n",
       "      <td>Good</td>\n",
       "      <td>877</td>\n",
       "    </tr>\n",
       "  </tbody>\n",
       "</table>\n",
       "</div>"
      ],
      "text/plain": [
       "                    count unique          top   freq\n",
       "source              36943      2  Google Play  34943\n",
       "review_description  36943  30086         Good    877"
      ]
     },
     "execution_count": 15,
     "metadata": {},
     "output_type": "execute_result"
    }
   ],
   "source": [
    "df.describe(include = 'object').T"
   ]
  },
  {
   "cell_type": "markdown",
   "id": "c980e883",
   "metadata": {
    "papermill": {
     "duration": 0.014696,
     "end_time": "2023-08-20T16:37:59.465663",
     "exception": false,
     "start_time": "2023-08-20T16:37:59.450967",
     "status": "completed"
    },
    "tags": []
   },
   "source": [
    "# Sentiment Analysis using textblob"
   ]
  },
  {
   "cell_type": "markdown",
   "id": "ffaf0681",
   "metadata": {
    "papermill": {
     "duration": 0.012911,
     "end_time": "2023-08-20T16:37:59.492383",
     "exception": false,
     "start_time": "2023-08-20T16:37:59.479472",
     "status": "completed"
    },
    "tags": []
   },
   "source": [
    "# Function to classify Sentiment Score"
   ]
  },
  {
   "cell_type": "code",
   "execution_count": 16,
   "id": "72e06e0d",
   "metadata": {
    "execution": {
     "iopub.execute_input": "2023-08-20T16:37:59.521429Z",
     "iopub.status.busy": "2023-08-20T16:37:59.520683Z",
     "iopub.status.idle": "2023-08-20T16:37:59.526479Z",
     "shell.execute_reply": "2023-08-20T16:37:59.525569Z"
    },
    "papermill": {
     "duration": 0.023293,
     "end_time": "2023-08-20T16:37:59.529118",
     "exception": false,
     "start_time": "2023-08-20T16:37:59.505825",
     "status": "completed"
    },
    "tags": []
   },
   "outputs": [],
   "source": [
    "def analyze(x):\n",
    "    if x>=0.5:\n",
    "        return 'Positive'\n",
    "    elif x<=-0.5:\n",
    "        return 'Negative'\n",
    "    else:\n",
    "        return 'Neutral'\n",
    "    "
   ]
  },
  {
   "cell_type": "markdown",
   "id": "a16e0cec",
   "metadata": {
    "papermill": {
     "duration": 0.013664,
     "end_time": "2023-08-20T16:37:59.556730",
     "exception": false,
     "start_time": "2023-08-20T16:37:59.543066",
     "status": "completed"
    },
    "tags": []
   },
   "source": [
    "# Function to calculate sentiment score"
   ]
  },
  {
   "cell_type": "code",
   "execution_count": 17,
   "id": "f7a010a9",
   "metadata": {
    "execution": {
     "iopub.execute_input": "2023-08-20T16:37:59.586418Z",
     "iopub.status.busy": "2023-08-20T16:37:59.585695Z",
     "iopub.status.idle": "2023-08-20T16:37:59.590208Z",
     "shell.execute_reply": "2023-08-20T16:37:59.589363Z"
    },
    "papermill": {
     "duration": 0.021399,
     "end_time": "2023-08-20T16:37:59.592341",
     "exception": false,
     "start_time": "2023-08-20T16:37:59.570942",
     "status": "completed"
    },
    "tags": []
   },
   "outputs": [],
   "source": [
    "def score(x):\n",
    "    blob = TextBlob(x)\n",
    "    return blob.sentiment.polarity"
   ]
  },
  {
   "cell_type": "code",
   "execution_count": 18,
   "id": "d8f8a15e",
   "metadata": {
    "execution": {
     "iopub.execute_input": "2023-08-20T16:37:59.621407Z",
     "iopub.status.busy": "2023-08-20T16:37:59.620653Z",
     "iopub.status.idle": "2023-08-20T16:38:09.985259Z",
     "shell.execute_reply": "2023-08-20T16:38:09.984301Z"
    },
    "papermill": {
     "duration": 10.382343,
     "end_time": "2023-08-20T16:38:09.988155",
     "exception": false,
     "start_time": "2023-08-20T16:37:59.605812",
     "status": "completed"
    },
    "tags": []
   },
   "outputs": [],
   "source": [
    "df['score'] = df['review_description'].apply(score)\n",
    "df['analysis'] = df['score'].apply(analyze)"
   ]
  },
  {
   "cell_type": "code",
   "execution_count": 19,
   "id": "b94d8a4e",
   "metadata": {
    "execution": {
     "iopub.execute_input": "2023-08-20T16:38:10.017305Z",
     "iopub.status.busy": "2023-08-20T16:38:10.016862Z",
     "iopub.status.idle": "2023-08-20T16:38:10.032312Z",
     "shell.execute_reply": "2023-08-20T16:38:10.031328Z"
    },
    "papermill": {
     "duration": 0.032654,
     "end_time": "2023-08-20T16:38:10.034654",
     "exception": false,
     "start_time": "2023-08-20T16:38:10.002000",
     "status": "completed"
    },
    "tags": []
   },
   "outputs": [
    {
     "data": {
      "text/html": [
       "<div>\n",
       "<style scoped>\n",
       "    .dataframe tbody tr th:only-of-type {\n",
       "        vertical-align: middle;\n",
       "    }\n",
       "\n",
       "    .dataframe tbody tr th {\n",
       "        vertical-align: top;\n",
       "    }\n",
       "\n",
       "    .dataframe thead th {\n",
       "        text-align: right;\n",
       "    }\n",
       "</style>\n",
       "<table border=\"1\" class=\"dataframe\">\n",
       "  <thead>\n",
       "    <tr style=\"text-align: right;\">\n",
       "      <th></th>\n",
       "      <th>source</th>\n",
       "      <th>review_description</th>\n",
       "      <th>rating</th>\n",
       "      <th>thumbs_up</th>\n",
       "      <th>score</th>\n",
       "      <th>analysis</th>\n",
       "    </tr>\n",
       "  </thead>\n",
       "  <tbody>\n",
       "    <tr>\n",
       "      <th>0</th>\n",
       "      <td>Google Play</td>\n",
       "      <td>Good</td>\n",
       "      <td>5</td>\n",
       "      <td>0.0</td>\n",
       "      <td>0.700</td>\n",
       "      <td>Positive</td>\n",
       "    </tr>\n",
       "    <tr>\n",
       "      <th>1</th>\n",
       "      <td>Google Play</td>\n",
       "      <td>Weak copy of Twitter</td>\n",
       "      <td>1</td>\n",
       "      <td>0.0</td>\n",
       "      <td>-0.375</td>\n",
       "      <td>Neutral</td>\n",
       "    </tr>\n",
       "    <tr>\n",
       "      <th>2</th>\n",
       "      <td>Google Play</td>\n",
       "      <td>i wish threads have a save button for images a...</td>\n",
       "      <td>3</td>\n",
       "      <td>0.0</td>\n",
       "      <td>0.000</td>\n",
       "      <td>Neutral</td>\n",
       "    </tr>\n",
       "    <tr>\n",
       "      <th>3</th>\n",
       "      <td>Google Play</td>\n",
       "      <td>Love it</td>\n",
       "      <td>5</td>\n",
       "      <td>0.0</td>\n",
       "      <td>0.500</td>\n",
       "      <td>Positive</td>\n",
       "    </tr>\n",
       "    <tr>\n",
       "      <th>4</th>\n",
       "      <td>Google Play</td>\n",
       "      <td>Very god</td>\n",
       "      <td>5</td>\n",
       "      <td>0.0</td>\n",
       "      <td>0.200</td>\n",
       "      <td>Neutral</td>\n",
       "    </tr>\n",
       "  </tbody>\n",
       "</table>\n",
       "</div>"
      ],
      "text/plain": [
       "        source                                 review_description  rating  \\\n",
       "0  Google Play                                               Good       5   \n",
       "1  Google Play                               Weak copy of Twitter       1   \n",
       "2  Google Play  i wish threads have a save button for images a...       3   \n",
       "3  Google Play                                            Love it       5   \n",
       "4  Google Play                                           Very god       5   \n",
       "\n",
       "   thumbs_up  score  analysis  \n",
       "0        0.0  0.700  Positive  \n",
       "1        0.0 -0.375   Neutral  \n",
       "2        0.0  0.000   Neutral  \n",
       "3        0.0  0.500  Positive  \n",
       "4        0.0  0.200   Neutral  "
      ]
     },
     "execution_count": 19,
     "metadata": {},
     "output_type": "execute_result"
    }
   ],
   "source": [
    "df.head()"
   ]
  },
  {
   "cell_type": "markdown",
   "id": "22f60ec7",
   "metadata": {
    "papermill": {
     "duration": 0.013374,
     "end_time": "2023-08-20T16:38:10.061908",
     "exception": false,
     "start_time": "2023-08-20T16:38:10.048534",
     "status": "completed"
    },
    "tags": []
   },
   "source": [
    "# Sentiment Analysis of rating column"
   ]
  },
  {
   "cell_type": "code",
   "execution_count": 20,
   "id": "ceed77c2",
   "metadata": {
    "execution": {
     "iopub.execute_input": "2023-08-20T16:38:10.093439Z",
     "iopub.status.busy": "2023-08-20T16:38:10.093017Z",
     "iopub.status.idle": "2023-08-20T16:38:10.098748Z",
     "shell.execute_reply": "2023-08-20T16:38:10.097723Z"
    },
    "papermill": {
     "duration": 0.023552,
     "end_time": "2023-08-20T16:38:10.100968",
     "exception": false,
     "start_time": "2023-08-20T16:38:10.077416",
     "status": "completed"
    },
    "tags": []
   },
   "outputs": [],
   "source": [
    "def rating(x):\n",
    "    \n",
    "    if x>=4:\n",
    "        return 'Positive'\n",
    "    elif x<=2:\n",
    "        return 'Negative'\n",
    "    else:\n",
    "        return 'Neutral'\n",
    "    "
   ]
  },
  {
   "cell_type": "code",
   "execution_count": 21,
   "id": "cbaecaa5",
   "metadata": {
    "execution": {
     "iopub.execute_input": "2023-08-20T16:38:10.131780Z",
     "iopub.status.busy": "2023-08-20T16:38:10.131020Z",
     "iopub.status.idle": "2023-08-20T16:38:10.150598Z",
     "shell.execute_reply": "2023-08-20T16:38:10.148953Z"
    },
    "papermill": {
     "duration": 0.038213,
     "end_time": "2023-08-20T16:38:10.153329",
     "exception": false,
     "start_time": "2023-08-20T16:38:10.115116",
     "status": "completed"
    },
    "tags": []
   },
   "outputs": [],
   "source": [
    "df['rating_analysis'] = df['rating'].apply(rating)"
   ]
  },
  {
   "cell_type": "code",
   "execution_count": 22,
   "id": "f1c3c1f2",
   "metadata": {
    "execution": {
     "iopub.execute_input": "2023-08-20T16:38:10.183043Z",
     "iopub.status.busy": "2023-08-20T16:38:10.182620Z",
     "iopub.status.idle": "2023-08-20T16:38:10.199301Z",
     "shell.execute_reply": "2023-08-20T16:38:10.197977Z"
    },
    "papermill": {
     "duration": 0.034212,
     "end_time": "2023-08-20T16:38:10.201755",
     "exception": false,
     "start_time": "2023-08-20T16:38:10.167543",
     "status": "completed"
    },
    "tags": []
   },
   "outputs": [
    {
     "data": {
      "text/html": [
       "<div>\n",
       "<style scoped>\n",
       "    .dataframe tbody tr th:only-of-type {\n",
       "        vertical-align: middle;\n",
       "    }\n",
       "\n",
       "    .dataframe tbody tr th {\n",
       "        vertical-align: top;\n",
       "    }\n",
       "\n",
       "    .dataframe thead th {\n",
       "        text-align: right;\n",
       "    }\n",
       "</style>\n",
       "<table border=\"1\" class=\"dataframe\">\n",
       "  <thead>\n",
       "    <tr style=\"text-align: right;\">\n",
       "      <th></th>\n",
       "      <th>source</th>\n",
       "      <th>review_description</th>\n",
       "      <th>rating</th>\n",
       "      <th>thumbs_up</th>\n",
       "      <th>score</th>\n",
       "      <th>analysis</th>\n",
       "      <th>rating_analysis</th>\n",
       "    </tr>\n",
       "  </thead>\n",
       "  <tbody>\n",
       "    <tr>\n",
       "      <th>0</th>\n",
       "      <td>Google Play</td>\n",
       "      <td>Good</td>\n",
       "      <td>5</td>\n",
       "      <td>0.0</td>\n",
       "      <td>0.700</td>\n",
       "      <td>Positive</td>\n",
       "      <td>Positive</td>\n",
       "    </tr>\n",
       "    <tr>\n",
       "      <th>1</th>\n",
       "      <td>Google Play</td>\n",
       "      <td>Weak copy of Twitter</td>\n",
       "      <td>1</td>\n",
       "      <td>0.0</td>\n",
       "      <td>-0.375</td>\n",
       "      <td>Neutral</td>\n",
       "      <td>Negative</td>\n",
       "    </tr>\n",
       "    <tr>\n",
       "      <th>2</th>\n",
       "      <td>Google Play</td>\n",
       "      <td>i wish threads have a save button for images a...</td>\n",
       "      <td>3</td>\n",
       "      <td>0.0</td>\n",
       "      <td>0.000</td>\n",
       "      <td>Neutral</td>\n",
       "      <td>Neutral</td>\n",
       "    </tr>\n",
       "    <tr>\n",
       "      <th>3</th>\n",
       "      <td>Google Play</td>\n",
       "      <td>Love it</td>\n",
       "      <td>5</td>\n",
       "      <td>0.0</td>\n",
       "      <td>0.500</td>\n",
       "      <td>Positive</td>\n",
       "      <td>Positive</td>\n",
       "    </tr>\n",
       "    <tr>\n",
       "      <th>4</th>\n",
       "      <td>Google Play</td>\n",
       "      <td>Very god</td>\n",
       "      <td>5</td>\n",
       "      <td>0.0</td>\n",
       "      <td>0.200</td>\n",
       "      <td>Neutral</td>\n",
       "      <td>Positive</td>\n",
       "    </tr>\n",
       "  </tbody>\n",
       "</table>\n",
       "</div>"
      ],
      "text/plain": [
       "        source                                 review_description  rating  \\\n",
       "0  Google Play                                               Good       5   \n",
       "1  Google Play                               Weak copy of Twitter       1   \n",
       "2  Google Play  i wish threads have a save button for images a...       3   \n",
       "3  Google Play                                            Love it       5   \n",
       "4  Google Play                                           Very god       5   \n",
       "\n",
       "   thumbs_up  score  analysis rating_analysis  \n",
       "0        0.0  0.700  Positive        Positive  \n",
       "1        0.0 -0.375   Neutral        Negative  \n",
       "2        0.0  0.000   Neutral         Neutral  \n",
       "3        0.0  0.500  Positive        Positive  \n",
       "4        0.0  0.200   Neutral        Positive  "
      ]
     },
     "execution_count": 22,
     "metadata": {},
     "output_type": "execute_result"
    }
   ],
   "source": [
    "df.head()"
   ]
  },
  {
   "cell_type": "markdown",
   "id": "c7422587",
   "metadata": {
    "papermill": {
     "duration": 0.013731,
     "end_time": "2023-08-20T16:38:10.229842",
     "exception": false,
     "start_time": "2023-08-20T16:38:10.216111",
     "status": "completed"
    },
    "tags": []
   },
   "source": [
    "# Final comparision of both column and classification"
   ]
  },
  {
   "cell_type": "code",
   "execution_count": 23,
   "id": "3a4cf439",
   "metadata": {
    "execution": {
     "iopub.execute_input": "2023-08-20T16:38:10.262370Z",
     "iopub.status.busy": "2023-08-20T16:38:10.261235Z",
     "iopub.status.idle": "2023-08-20T16:38:10.268350Z",
     "shell.execute_reply": "2023-08-20T16:38:10.267073Z"
    },
    "papermill": {
     "duration": 0.027005,
     "end_time": "2023-08-20T16:38:10.271043",
     "exception": false,
     "start_time": "2023-08-20T16:38:10.244038",
     "status": "completed"
    },
    "tags": []
   },
   "outputs": [],
   "source": [
    "df['final_rating'] = 'Positive'"
   ]
  },
  {
   "cell_type": "code",
   "execution_count": 24,
   "id": "b1296eea",
   "metadata": {
    "execution": {
     "iopub.execute_input": "2023-08-20T16:38:10.303996Z",
     "iopub.status.busy": "2023-08-20T16:38:10.303144Z",
     "iopub.status.idle": "2023-08-20T16:38:23.865417Z",
     "shell.execute_reply": "2023-08-20T16:38:23.864514Z"
    },
    "papermill": {
     "duration": 13.580495,
     "end_time": "2023-08-20T16:38:23.867984",
     "exception": false,
     "start_time": "2023-08-20T16:38:10.287489",
     "status": "completed"
    },
    "tags": []
   },
   "outputs": [],
   "source": [
    "for i in range(len(df)):\n",
    "    if (df['analysis'][i]=='Positive' and df['rating_analysis'][i] == 'Positive'):\n",
    "        df['final_rating'][i] = 'Positive'\n",
    "        \n",
    "    elif (df['analysis'][i] == 'Positive' and df['rating_analysis'][i] == 'Neutral')or (df['analysis'][i] == 'Neutral' and df['rating_analysis'][i] == 'Positive'):\n",
    "        df['final_rating'][i] = 'Positive'\n",
    "        \n",
    "    elif (df['analysis'][i] == 'Negative' and df['rating_analysis'][i] == 'Neutral')or (df['analysis'][i] == 'Neutral' and df['rating_analysis'][i] == 'Negative'):\n",
    "        df['final_rating'][i] = 'Negative'\n",
    "        \n",
    "    elif (df['analysis'][i] == 'Neutral' and df['rating_analysis'][i] == 'Neutral'):\n",
    "        df['final_rating'][i] = 'Neutral'\n",
    "   \n",
    "    elif (df['analysis'][i] == 'Negative' and df['rating_analysis'][i] == 'Negative'):\n",
    "        df['final_rating'][i] = 'Negative'\n",
    "        \n",
    "    else:\n",
    "        df['final_rating'][i] = 'Neutral'"
   ]
  },
  {
   "cell_type": "code",
   "execution_count": 25,
   "id": "7fc424e0",
   "metadata": {
    "execution": {
     "iopub.execute_input": "2023-08-20T16:38:23.898470Z",
     "iopub.status.busy": "2023-08-20T16:38:23.897670Z",
     "iopub.status.idle": "2023-08-20T16:38:23.914558Z",
     "shell.execute_reply": "2023-08-20T16:38:23.913351Z"
    },
    "papermill": {
     "duration": 0.034708,
     "end_time": "2023-08-20T16:38:23.916860",
     "exception": false,
     "start_time": "2023-08-20T16:38:23.882152",
     "status": "completed"
    },
    "tags": []
   },
   "outputs": [
    {
     "data": {
      "text/html": [
       "<div>\n",
       "<style scoped>\n",
       "    .dataframe tbody tr th:only-of-type {\n",
       "        vertical-align: middle;\n",
       "    }\n",
       "\n",
       "    .dataframe tbody tr th {\n",
       "        vertical-align: top;\n",
       "    }\n",
       "\n",
       "    .dataframe thead th {\n",
       "        text-align: right;\n",
       "    }\n",
       "</style>\n",
       "<table border=\"1\" class=\"dataframe\">\n",
       "  <thead>\n",
       "    <tr style=\"text-align: right;\">\n",
       "      <th></th>\n",
       "      <th>source</th>\n",
       "      <th>review_description</th>\n",
       "      <th>rating</th>\n",
       "      <th>thumbs_up</th>\n",
       "      <th>score</th>\n",
       "      <th>analysis</th>\n",
       "      <th>rating_analysis</th>\n",
       "      <th>final_rating</th>\n",
       "    </tr>\n",
       "  </thead>\n",
       "  <tbody>\n",
       "    <tr>\n",
       "      <th>0</th>\n",
       "      <td>Google Play</td>\n",
       "      <td>Good</td>\n",
       "      <td>5</td>\n",
       "      <td>0.0</td>\n",
       "      <td>0.700</td>\n",
       "      <td>Positive</td>\n",
       "      <td>Positive</td>\n",
       "      <td>Positive</td>\n",
       "    </tr>\n",
       "    <tr>\n",
       "      <th>1</th>\n",
       "      <td>Google Play</td>\n",
       "      <td>Weak copy of Twitter</td>\n",
       "      <td>1</td>\n",
       "      <td>0.0</td>\n",
       "      <td>-0.375</td>\n",
       "      <td>Neutral</td>\n",
       "      <td>Negative</td>\n",
       "      <td>Negative</td>\n",
       "    </tr>\n",
       "    <tr>\n",
       "      <th>2</th>\n",
       "      <td>Google Play</td>\n",
       "      <td>i wish threads have a save button for images a...</td>\n",
       "      <td>3</td>\n",
       "      <td>0.0</td>\n",
       "      <td>0.000</td>\n",
       "      <td>Neutral</td>\n",
       "      <td>Neutral</td>\n",
       "      <td>Neutral</td>\n",
       "    </tr>\n",
       "    <tr>\n",
       "      <th>3</th>\n",
       "      <td>Google Play</td>\n",
       "      <td>Love it</td>\n",
       "      <td>5</td>\n",
       "      <td>0.0</td>\n",
       "      <td>0.500</td>\n",
       "      <td>Positive</td>\n",
       "      <td>Positive</td>\n",
       "      <td>Positive</td>\n",
       "    </tr>\n",
       "    <tr>\n",
       "      <th>4</th>\n",
       "      <td>Google Play</td>\n",
       "      <td>Very god</td>\n",
       "      <td>5</td>\n",
       "      <td>0.0</td>\n",
       "      <td>0.200</td>\n",
       "      <td>Neutral</td>\n",
       "      <td>Positive</td>\n",
       "      <td>Positive</td>\n",
       "    </tr>\n",
       "  </tbody>\n",
       "</table>\n",
       "</div>"
      ],
      "text/plain": [
       "        source                                 review_description  rating  \\\n",
       "0  Google Play                                               Good       5   \n",
       "1  Google Play                               Weak copy of Twitter       1   \n",
       "2  Google Play  i wish threads have a save button for images a...       3   \n",
       "3  Google Play                                            Love it       5   \n",
       "4  Google Play                                           Very god       5   \n",
       "\n",
       "   thumbs_up  score  analysis rating_analysis final_rating  \n",
       "0        0.0  0.700  Positive        Positive     Positive  \n",
       "1        0.0 -0.375   Neutral        Negative     Negative  \n",
       "2        0.0  0.000   Neutral         Neutral      Neutral  \n",
       "3        0.0  0.500  Positive        Positive     Positive  \n",
       "4        0.0  0.200   Neutral        Positive     Positive  "
      ]
     },
     "execution_count": 25,
     "metadata": {},
     "output_type": "execute_result"
    }
   ],
   "source": [
    "df.head()"
   ]
  },
  {
   "cell_type": "code",
   "execution_count": 26,
   "id": "f9e9aafb",
   "metadata": {
    "execution": {
     "iopub.execute_input": "2023-08-20T16:38:23.948311Z",
     "iopub.status.busy": "2023-08-20T16:38:23.947301Z",
     "iopub.status.idle": "2023-08-20T16:38:23.958661Z",
     "shell.execute_reply": "2023-08-20T16:38:23.957493Z"
    },
    "papermill": {
     "duration": 0.029486,
     "end_time": "2023-08-20T16:38:23.961020",
     "exception": false,
     "start_time": "2023-08-20T16:38:23.931534",
     "status": "completed"
    },
    "tags": []
   },
   "outputs": [
    {
     "data": {
      "text/plain": [
       "array(['Positive', 'Negative', 'Neutral'], dtype=object)"
      ]
     },
     "execution_count": 26,
     "metadata": {},
     "output_type": "execute_result"
    }
   ],
   "source": [
    "df['final_rating'].unique()"
   ]
  },
  {
   "cell_type": "code",
   "execution_count": 23,
   "id": "ae415ac6",
   "metadata": {
    "execution": {
     "iopub.execute_input": "2023-08-20T16:38:23.992251Z",
     "iopub.status.busy": "2023-08-20T16:38:23.991824Z",
     "iopub.status.idle": "2023-08-20T16:38:24.081557Z",
     "shell.execute_reply": "2023-08-20T16:38:24.080368Z"
    },
    "papermill": {
     "duration": 0.108502,
     "end_time": "2023-08-20T16:38:24.084072",
     "exception": false,
     "start_time": "2023-08-20T16:38:23.975570",
     "status": "completed"
    },
    "tags": []
   },
   "outputs": [
    {
     "data": {
      "text/html": [
       "<div>\n",
       "<style scoped>\n",
       "    .dataframe tbody tr th:only-of-type {\n",
       "        vertical-align: middle;\n",
       "    }\n",
       "\n",
       "    .dataframe tbody tr th {\n",
       "        vertical-align: top;\n",
       "    }\n",
       "\n",
       "    .dataframe thead th {\n",
       "        text-align: right;\n",
       "    }\n",
       "</style>\n",
       "<table border=\"1\" class=\"dataframe\">\n",
       "  <thead>\n",
       "    <tr style=\"text-align: right;\">\n",
       "      <th></th>\n",
       "      <th>source</th>\n",
       "      <th>review_description</th>\n",
       "      <th>analysis</th>\n",
       "      <th>rating_analysis</th>\n",
       "      <th>final_rating</th>\n",
       "    </tr>\n",
       "  </thead>\n",
       "  <tbody>\n",
       "    <tr>\n",
       "      <th>count</th>\n",
       "      <td>36943</td>\n",
       "      <td>36943</td>\n",
       "      <td>36943</td>\n",
       "      <td>36943</td>\n",
       "      <td>36943</td>\n",
       "    </tr>\n",
       "    <tr>\n",
       "      <th>unique</th>\n",
       "      <td>2</td>\n",
       "      <td>30086</td>\n",
       "      <td>3</td>\n",
       "      <td>3</td>\n",
       "      <td>3</td>\n",
       "    </tr>\n",
       "    <tr>\n",
       "      <th>top</th>\n",
       "      <td>Google Play</td>\n",
       "      <td>Good</td>\n",
       "      <td>Neutral</td>\n",
       "      <td>Positive</td>\n",
       "      <td>Positive</td>\n",
       "    </tr>\n",
       "    <tr>\n",
       "      <th>freq</th>\n",
       "      <td>34943</td>\n",
       "      <td>877</td>\n",
       "      <td>24360</td>\n",
       "      <td>20588</td>\n",
       "      <td>20998</td>\n",
       "    </tr>\n",
       "  </tbody>\n",
       "</table>\n",
       "</div>"
      ],
      "text/plain": [
       "             source review_description analysis rating_analysis final_rating\n",
       "count         36943              36943    36943           36943        36943\n",
       "unique            2              30086        3               3            3\n",
       "top     Google Play               Good  Neutral        Positive     Positive\n",
       "freq          34943                877    24360           20588        20998"
      ]
     },
     "execution_count": 23,
     "metadata": {},
     "output_type": "execute_result"
    }
   ],
   "source": [
    "df.describe(include='object')"
   ]
  },
  {
   "cell_type": "code",
   "execution_count": 27,
   "id": "215d7e45",
   "metadata": {
    "execution": {
     "iopub.execute_input": "2023-08-20T16:38:24.116608Z",
     "iopub.status.busy": "2023-08-20T16:38:24.115322Z",
     "iopub.status.idle": "2023-08-20T16:38:24.457338Z",
     "shell.execute_reply": "2023-08-20T16:38:24.456047Z"
    },
    "papermill": {
     "duration": 0.361269,
     "end_time": "2023-08-20T16:38:24.460156",
     "exception": false,
     "start_time": "2023-08-20T16:38:24.098887",
     "status": "completed"
    },
    "tags": []
   },
   "outputs": [
    {
     "data": {
      "text/plain": [
       "<AxesSubplot: xlabel='final_rating', ylabel='count'>"
      ]
     },
     "execution_count": 27,
     "metadata": {},
     "output_type": "execute_result"
    },
    {
     "data": {
      "image/png": "[encoded data removed]",
      "text/plain": [
       "<Figure size 640x480 with 1 Axes>"
      ]
     },
     "metadata": {},
     "output_type": "display_data"
    }
   ],
   "source": [
    "sns.countplot(x='final_rating',data=df)"
   ]
  },
  {
   "cell_type": "code",
   "execution_count": 7,
   "id": "0463f406",
   "metadata": {},
   "outputs": [
    {
     "ename": "FileNotFoundError",
     "evalue": "[Errno 2] No such file or directory: 'C:\\\\Users\\\\Lenovo\\\\Downloads\\\\CAP_002401.csv'",
     "output_type": "error",
     "traceback": [
      "\u001b[1;31m---------------------------------------------------------------------------\u001b[0m",
      "\u001b[1;31mFileNotFoundError\u001b[0m                         Traceback (most recent call last)",
      "Cell \u001b[1;32mIn[7], line 2\u001b[0m\n\u001b[0;32m      1\u001b[0m \u001b[38;5;28;01mimport\u001b[39;00m \u001b[38;5;21;01mpandas\u001b[39;00m \u001b[38;5;28;01mas\u001b[39;00m \u001b[38;5;21;01mpd\u001b[39;00m\n\u001b[1;32m----> 2\u001b[0m df \u001b[38;5;241m=\u001b[39m\u001b[43mpd\u001b[49m\u001b[38;5;241;43m.\u001b[39;49m\u001b[43mread_csv\u001b[49m\u001b[43m(\u001b[49m\u001b[38;5;124;43mr\u001b[39;49m\u001b[38;5;124;43m'\u001b[39;49m\u001b[38;5;124;43mC:\u001b[39;49m\u001b[38;5;124;43m\\\u001b[39;49m\u001b[38;5;124;43mUsers\u001b[39;49m\u001b[38;5;124;43m\\\u001b[39;49m\u001b[38;5;124;43mLenovo\u001b[39;49m\u001b[38;5;124;43m\\\u001b[39;49m\u001b[38;5;124;43mDownloads\u001b[39;49m\u001b[38;5;124;43m\\\u001b[39;49m\u001b[38;5;124;43mCAP_002401.csv\u001b[39;49m\u001b[38;5;124;43m'\u001b[39;49m\u001b[43m)\u001b[49m\n",
      "File \u001b[1;32m~\\AppData\\Roaming\\Python\\Python310\\site-packages\\pandas\\util\\_decorators.py:211\u001b[0m, in \u001b[0;36mdeprecate_kwarg.<locals>._deprecate_kwarg.<locals>.wrapper\u001b[1;34m(*args, **kwargs)\u001b[0m\n\u001b[0;32m    209\u001b[0m     \u001b[38;5;28;01melse\u001b[39;00m:\n\u001b[0;32m    210\u001b[0m         kwargs[new_arg_name] \u001b[38;5;241m=\u001b[39m new_arg_value\n\u001b[1;32m--> 211\u001b[0m \u001b[38;5;28;01mreturn\u001b[39;00m func(\u001b[38;5;241m*\u001b[39margs, \u001b[38;5;241m*\u001b[39m\u001b[38;5;241m*\u001b[39mkwargs)\n",
      "File \u001b[1;32m~\\AppData\\Roaming\\Python\\Python310\\site-packages\\pandas\\util\\_decorators.py:331\u001b[0m, in \u001b[0;36mdeprecate_nonkeyword_arguments.<locals>.decorate.<locals>.wrapper\u001b[1;34m(*args, **kwargs)\u001b[0m\n\u001b[0;32m    325\u001b[0m \u001b[38;5;28;01mif\u001b[39;00m \u001b[38;5;28mlen\u001b[39m(args) \u001b[38;5;241m>\u001b[39m num_allow_args:\n\u001b[0;32m    326\u001b[0m     warnings\u001b[38;5;241m.\u001b[39mwarn(\n\u001b[0;32m    327\u001b[0m         msg\u001b[38;5;241m.\u001b[39mformat(arguments\u001b[38;5;241m=\u001b[39m_format_argument_list(allow_args)),\n\u001b[0;32m    328\u001b[0m         \u001b[38;5;167;01mFutureWarning\u001b[39;00m,\n\u001b[0;32m    329\u001b[0m         stacklevel\u001b[38;5;241m=\u001b[39mfind_stack_level(),\n\u001b[0;32m    330\u001b[0m     )\n\u001b[1;32m--> 331\u001b[0m \u001b[38;5;28;01mreturn\u001b[39;00m func(\u001b[38;5;241m*\u001b[39margs, \u001b[38;5;241m*\u001b[39m\u001b[38;5;241m*\u001b[39mkwargs)\n",
      "File \u001b[1;32m~\\AppData\\Roaming\\Python\\Python310\\site-packages\\pandas\\io\\parsers\\readers.py:950\u001b[0m, in \u001b[0;36mread_csv\u001b[1;34m(filepath_or_buffer, sep, delimiter, header, names, index_col, usecols, squeeze, prefix, mangle_dupe_cols, dtype, engine, converters, true_values, false_values, skipinitialspace, skiprows, skipfooter, nrows, na_values, keep_default_na, na_filter, verbose, skip_blank_lines, parse_dates, infer_datetime_format, keep_date_col, date_parser, dayfirst, cache_dates, iterator, chunksize, compression, thousands, decimal, lineterminator, quotechar, quoting, doublequote, escapechar, comment, encoding, encoding_errors, dialect, error_bad_lines, warn_bad_lines, on_bad_lines, delim_whitespace, low_memory, memory_map, float_precision, storage_options)\u001b[0m\n\u001b[0;32m    935\u001b[0m kwds_defaults \u001b[38;5;241m=\u001b[39m _refine_defaults_read(\n\u001b[0;32m    936\u001b[0m     dialect,\n\u001b[0;32m    937\u001b[0m     delimiter,\n\u001b[1;32m   (...)\u001b[0m\n\u001b[0;32m    946\u001b[0m     defaults\u001b[38;5;241m=\u001b[39m{\u001b[38;5;124m\"\u001b[39m\u001b[38;5;124mdelimiter\u001b[39m\u001b[38;5;124m\"\u001b[39m: \u001b[38;5;124m\"\u001b[39m\u001b[38;5;124m,\u001b[39m\u001b[38;5;124m\"\u001b[39m},\n\u001b[0;32m    947\u001b[0m )\n\u001b[0;32m    948\u001b[0m kwds\u001b[38;5;241m.\u001b[39mupdate(kwds_defaults)\n\u001b[1;32m--> 950\u001b[0m \u001b[38;5;28;01mreturn\u001b[39;00m \u001b[43m_read\u001b[49m\u001b[43m(\u001b[49m\u001b[43mfilepath_or_buffer\u001b[49m\u001b[43m,\u001b[49m\u001b[43m \u001b[49m\u001b[43mkwds\u001b[49m\u001b[43m)\u001b[49m\n",
      "File \u001b[1;32m~\\AppData\\Roaming\\Python\\Python310\\site-packages\\pandas\\io\\parsers\\readers.py:605\u001b[0m, in \u001b[0;36m_read\u001b[1;34m(filepath_or_buffer, kwds)\u001b[0m\n\u001b[0;32m    602\u001b[0m _validate_names(kwds\u001b[38;5;241m.\u001b[39mget(\u001b[38;5;124m\"\u001b[39m\u001b[38;5;124mnames\u001b[39m\u001b[38;5;124m\"\u001b[39m, \u001b[38;5;28;01mNone\u001b[39;00m))\n\u001b[0;32m    604\u001b[0m \u001b[38;5;66;03m# Create the parser.\u001b[39;00m\n\u001b[1;32m--> 605\u001b[0m parser \u001b[38;5;241m=\u001b[39m TextFileReader(filepath_or_buffer, \u001b[38;5;241m*\u001b[39m\u001b[38;5;241m*\u001b[39mkwds)\n\u001b[0;32m    607\u001b[0m \u001b[38;5;28;01mif\u001b[39;00m chunksize \u001b[38;5;129;01mor\u001b[39;00m iterator:\n\u001b[0;32m    608\u001b[0m     \u001b[38;5;28;01mreturn\u001b[39;00m parser\n",
      "File \u001b[1;32m~\\AppData\\Roaming\\Python\\Python310\\site-packages\\pandas\\io\\parsers\\readers.py:1442\u001b[0m, in \u001b[0;36mTextFileReader.__init__\u001b[1;34m(self, f, engine, **kwds)\u001b[0m\n\u001b[0;32m   1439\u001b[0m     \u001b[38;5;28mself\u001b[39m\u001b[38;5;241m.\u001b[39moptions[\u001b[38;5;124m\"\u001b[39m\u001b[38;5;124mhas_index_names\u001b[39m\u001b[38;5;124m\"\u001b[39m] \u001b[38;5;241m=\u001b[39m kwds[\u001b[38;5;124m\"\u001b[39m\u001b[38;5;124mhas_index_names\u001b[39m\u001b[38;5;124m\"\u001b[39m]\n\u001b[0;32m   1441\u001b[0m \u001b[38;5;28mself\u001b[39m\u001b[38;5;241m.\u001b[39mhandles: IOHandles \u001b[38;5;241m|\u001b[39m \u001b[38;5;28;01mNone\u001b[39;00m \u001b[38;5;241m=\u001b[39m \u001b[38;5;28;01mNone\u001b[39;00m\n\u001b[1;32m-> 1442\u001b[0m \u001b[38;5;28mself\u001b[39m\u001b[38;5;241m.\u001b[39m_engine \u001b[38;5;241m=\u001b[39m \u001b[38;5;28;43mself\u001b[39;49m\u001b[38;5;241;43m.\u001b[39;49m\u001b[43m_make_engine\u001b[49m\u001b[43m(\u001b[49m\u001b[43mf\u001b[49m\u001b[43m,\u001b[49m\u001b[43m \u001b[49m\u001b[38;5;28;43mself\u001b[39;49m\u001b[38;5;241;43m.\u001b[39;49m\u001b[43mengine\u001b[49m\u001b[43m)\u001b[49m\n",
      "File \u001b[1;32m~\\AppData\\Roaming\\Python\\Python310\\site-packages\\pandas\\io\\parsers\\readers.py:1735\u001b[0m, in \u001b[0;36mTextFileReader._make_engine\u001b[1;34m(self, f, engine)\u001b[0m\n\u001b[0;32m   1733\u001b[0m     \u001b[38;5;28;01mif\u001b[39;00m \u001b[38;5;124m\"\u001b[39m\u001b[38;5;124mb\u001b[39m\u001b[38;5;124m\"\u001b[39m \u001b[38;5;129;01mnot\u001b[39;00m \u001b[38;5;129;01min\u001b[39;00m mode:\n\u001b[0;32m   1734\u001b[0m         mode \u001b[38;5;241m+\u001b[39m\u001b[38;5;241m=\u001b[39m \u001b[38;5;124m\"\u001b[39m\u001b[38;5;124mb\u001b[39m\u001b[38;5;124m\"\u001b[39m\n\u001b[1;32m-> 1735\u001b[0m \u001b[38;5;28mself\u001b[39m\u001b[38;5;241m.\u001b[39mhandles \u001b[38;5;241m=\u001b[39m \u001b[43mget_handle\u001b[49m\u001b[43m(\u001b[49m\n\u001b[0;32m   1736\u001b[0m \u001b[43m    \u001b[49m\u001b[43mf\u001b[49m\u001b[43m,\u001b[49m\n\u001b[0;32m   1737\u001b[0m \u001b[43m    \u001b[49m\u001b[43mmode\u001b[49m\u001b[43m,\u001b[49m\n\u001b[0;32m   1738\u001b[0m \u001b[43m    \u001b[49m\u001b[43mencoding\u001b[49m\u001b[38;5;241;43m=\u001b[39;49m\u001b[38;5;28;43mself\u001b[39;49m\u001b[38;5;241;43m.\u001b[39;49m\u001b[43moptions\u001b[49m\u001b[38;5;241;43m.\u001b[39;49m\u001b[43mget\u001b[49m\u001b[43m(\u001b[49m\u001b[38;5;124;43m\"\u001b[39;49m\u001b[38;5;124;43mencoding\u001b[39;49m\u001b[38;5;124;43m\"\u001b[39;49m\u001b[43m,\u001b[49m\u001b[43m \u001b[49m\u001b[38;5;28;43;01mNone\u001b[39;49;00m\u001b[43m)\u001b[49m\u001b[43m,\u001b[49m\n\u001b[0;32m   1739\u001b[0m \u001b[43m    \u001b[49m\u001b[43mcompression\u001b[49m\u001b[38;5;241;43m=\u001b[39;49m\u001b[38;5;28;43mself\u001b[39;49m\u001b[38;5;241;43m.\u001b[39;49m\u001b[43moptions\u001b[49m\u001b[38;5;241;43m.\u001b[39;49m\u001b[43mget\u001b[49m\u001b[43m(\u001b[49m\u001b[38;5;124;43m\"\u001b[39;49m\u001b[38;5;124;43mcompression\u001b[39;49m\u001b[38;5;124;43m\"\u001b[39;49m\u001b[43m,\u001b[49m\u001b[43m \u001b[49m\u001b[38;5;28;43;01mNone\u001b[39;49;00m\u001b[43m)\u001b[49m\u001b[43m,\u001b[49m\n\u001b[0;32m   1740\u001b[0m \u001b[43m    \u001b[49m\u001b[43mmemory_map\u001b[49m\u001b[38;5;241;43m=\u001b[39;49m\u001b[38;5;28;43mself\u001b[39;49m\u001b[38;5;241;43m.\u001b[39;49m\u001b[43moptions\u001b[49m\u001b[38;5;241;43m.\u001b[39;49m\u001b[43mget\u001b[49m\u001b[43m(\u001b[49m\u001b[38;5;124;43m\"\u001b[39;49m\u001b[38;5;124;43mmemory_map\u001b[39;49m\u001b[38;5;124;43m\"\u001b[39;49m\u001b[43m,\u001b[49m\u001b[43m \u001b[49m\u001b[38;5;28;43;01mFalse\u001b[39;49;00m\u001b[43m)\u001b[49m\u001b[43m,\u001b[49m\n\u001b[0;32m   1741\u001b[0m \u001b[43m    \u001b[49m\u001b[43mis_text\u001b[49m\u001b[38;5;241;43m=\u001b[39;49m\u001b[43mis_text\u001b[49m\u001b[43m,\u001b[49m\n\u001b[0;32m   1742\u001b[0m \u001b[43m    \u001b[49m\u001b[43merrors\u001b[49m\u001b[38;5;241;43m=\u001b[39;49m\u001b[38;5;28;43mself\u001b[39;49m\u001b[38;5;241;43m.\u001b[39;49m\u001b[43moptions\u001b[49m\u001b[38;5;241;43m.\u001b[39;49m\u001b[43mget\u001b[49m\u001b[43m(\u001b[49m\u001b[38;5;124;43m\"\u001b[39;49m\u001b[38;5;124;43mencoding_errors\u001b[39;49m\u001b[38;5;124;43m\"\u001b[39;49m\u001b[43m,\u001b[49m\u001b[43m \u001b[49m\u001b[38;5;124;43m\"\u001b[39;49m\u001b[38;5;124;43mstrict\u001b[39;49m\u001b[38;5;124;43m\"\u001b[39;49m\u001b[43m)\u001b[49m\u001b[43m,\u001b[49m\n\u001b[0;32m   1743\u001b[0m \u001b[43m    \u001b[49m\u001b[43mstorage_options\u001b[49m\u001b[38;5;241;43m=\u001b[39;49m\u001b[38;5;28;43mself\u001b[39;49m\u001b[38;5;241;43m.\u001b[39;49m\u001b[43moptions\u001b[49m\u001b[38;5;241;43m.\u001b[39;49m\u001b[43mget\u001b[49m\u001b[43m(\u001b[49m\u001b[38;5;124;43m\"\u001b[39;49m\u001b[38;5;124;43mstorage_options\u001b[39;49m\u001b[38;5;124;43m\"\u001b[39;49m\u001b[43m,\u001b[49m\u001b[43m \u001b[49m\u001b[38;5;28;43;01mNone\u001b[39;49;00m\u001b[43m)\u001b[49m\u001b[43m,\u001b[49m\n\u001b[0;32m   1744\u001b[0m \u001b[43m\u001b[49m\u001b[43m)\u001b[49m\n\u001b[0;32m   1745\u001b[0m \u001b[38;5;28;01massert\u001b[39;00m \u001b[38;5;28mself\u001b[39m\u001b[38;5;241m.\u001b[39mhandles \u001b[38;5;129;01mis\u001b[39;00m \u001b[38;5;129;01mnot\u001b[39;00m \u001b[38;5;28;01mNone\u001b[39;00m\n\u001b[0;32m   1746\u001b[0m f \u001b[38;5;241m=\u001b[39m \u001b[38;5;28mself\u001b[39m\u001b[38;5;241m.\u001b[39mhandles\u001b[38;5;241m.\u001b[39mhandle\n",
      "File \u001b[1;32m~\\AppData\\Roaming\\Python\\Python310\\site-packages\\pandas\\io\\common.py:856\u001b[0m, in \u001b[0;36mget_handle\u001b[1;34m(path_or_buf, mode, encoding, compression, memory_map, is_text, errors, storage_options)\u001b[0m\n\u001b[0;32m    851\u001b[0m \u001b[38;5;28;01melif\u001b[39;00m \u001b[38;5;28misinstance\u001b[39m(handle, \u001b[38;5;28mstr\u001b[39m):\n\u001b[0;32m    852\u001b[0m     \u001b[38;5;66;03m# Check whether the filename is to be opened in binary mode.\u001b[39;00m\n\u001b[0;32m    853\u001b[0m     \u001b[38;5;66;03m# Binary mode does not support 'encoding' and 'newline'.\u001b[39;00m\n\u001b[0;32m    854\u001b[0m     \u001b[38;5;28;01mif\u001b[39;00m ioargs\u001b[38;5;241m.\u001b[39mencoding \u001b[38;5;129;01mand\u001b[39;00m \u001b[38;5;124m\"\u001b[39m\u001b[38;5;124mb\u001b[39m\u001b[38;5;124m\"\u001b[39m \u001b[38;5;129;01mnot\u001b[39;00m \u001b[38;5;129;01min\u001b[39;00m ioargs\u001b[38;5;241m.\u001b[39mmode:\n\u001b[0;32m    855\u001b[0m         \u001b[38;5;66;03m# Encoding\u001b[39;00m\n\u001b[1;32m--> 856\u001b[0m         handle \u001b[38;5;241m=\u001b[39m \u001b[38;5;28;43mopen\u001b[39;49m\u001b[43m(\u001b[49m\n\u001b[0;32m    857\u001b[0m \u001b[43m            \u001b[49m\u001b[43mhandle\u001b[49m\u001b[43m,\u001b[49m\n\u001b[0;32m    858\u001b[0m \u001b[43m            \u001b[49m\u001b[43mioargs\u001b[49m\u001b[38;5;241;43m.\u001b[39;49m\u001b[43mmode\u001b[49m\u001b[43m,\u001b[49m\n\u001b[0;32m    859\u001b[0m \u001b[43m            \u001b[49m\u001b[43mencoding\u001b[49m\u001b[38;5;241;43m=\u001b[39;49m\u001b[43mioargs\u001b[49m\u001b[38;5;241;43m.\u001b[39;49m\u001b[43mencoding\u001b[49m\u001b[43m,\u001b[49m\n\u001b[0;32m    860\u001b[0m \u001b[43m            \u001b[49m\u001b[43merrors\u001b[49m\u001b[38;5;241;43m=\u001b[39;49m\u001b[43merrors\u001b[49m\u001b[43m,\u001b[49m\n\u001b[0;32m    861\u001b[0m \u001b[43m            \u001b[49m\u001b[43mnewline\u001b[49m\u001b[38;5;241;43m=\u001b[39;49m\u001b[38;5;124;43m\"\u001b[39;49m\u001b[38;5;124;43m\"\u001b[39;49m\u001b[43m,\u001b[49m\n\u001b[0;32m    862\u001b[0m \u001b[43m        \u001b[49m\u001b[43m)\u001b[49m\n\u001b[0;32m    863\u001b[0m     \u001b[38;5;28;01melse\u001b[39;00m:\n\u001b[0;32m    864\u001b[0m         \u001b[38;5;66;03m# Binary mode\u001b[39;00m\n\u001b[0;32m    865\u001b[0m         handle \u001b[38;5;241m=\u001b[39m \u001b[38;5;28mopen\u001b[39m(handle, ioargs\u001b[38;5;241m.\u001b[39mmode)\n",
      "\u001b[1;31mFileNotFoundError\u001b[0m: [Errno 2] No such file or directory: 'C:\\\\Users\\\\Lenovo\\\\Downloads\\\\CAP_002401.csv'"
     ]
    }
   ],
   "source": [
    "import pandas as pd\n",
    "df =pd.read_csv(r'C:\\Users\\Lenovo\\Downloads\\CAP_002401.csv')"
   ]
  },
  {
   "cell_type": "markdown",
   "id": "2e8b514a",
   "metadata": {
    "papermill": {
     "duration": 0.015082,
     "end_time": "2023-08-20T16:38:24.491896",
     "exception": false,
     "start_time": "2023-08-20T16:38:24.476814",
     "status": "completed"
    },
    "tags": []
   },
   "source": [
    "# Conclusion:"
   ]
  },
  {
   "cell_type": "markdown",
   "id": "3166eb4c",
   "metadata": {
    "papermill": {
     "duration": 0.014918,
     "end_time": "2023-08-20T16:38:24.522210",
     "exception": false,
     "start_time": "2023-08-20T16:38:24.507292",
     "status": "completed"
    },
    "tags": []
   },
   "source": [
    "## From above analysis it is clear that the thread app is liked by most of the user and popular among user."
   ]
  },
  {
   "cell_type": "markdown",
   "id": "bb52fd95",
   "metadata": {
    "papermill": {
     "duration": 0.014989,
     "end_time": "2023-08-20T16:38:24.552617",
     "exception": false,
     "start_time": "2023-08-20T16:38:24.537628",
     "status": "completed"
    },
    "tags": []
   },
   "source": [
    "#### If you like my work then upvote me 😊. Thankyou !!! "
   ]
  }
 ],
 "metadata": {
  "kernelspec": {
   "display_name": "Python 3 (ipykernel)",
   "language": "python",
   "name": "python3"
  },
  "language_info": {
   "codemirror_mode": {
    "name": "ipython",
    "version": 3
   },
   "file_extension": ".py",
   "mimetype": "text/x-python",
   "name": "python",
   "nbconvert_exporter": "python",
   "pygments_lexer": "ipython3",
   "version": "3.10.6"
  },
  "papermill": {
   "default_parameters": {},
   "duration": 42.164873,
   "end_time": "2023-08-20T16:38:25.691269",
   "environment_variables": {},
   "exception": null,
   "input_path": "__notebook__.ipynb",
   "output_path": "__notebook__.ipynb",
   "parameters": {},
   "start_time": "2023-08-20T16:37:43.526396",
   "version": "2.4.0"
  }
 },
 "nbformat": 4,
 "nbformat_minor": 5
}
