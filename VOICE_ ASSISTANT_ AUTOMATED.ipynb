{
 "cells": [
  {
   "cell_type": "code",
   "execution_count": 1,
   "id": "dc3530e8",
   "metadata": {},
   "outputs": [
    {
     "name": "stdout",
     "output_type": "stream",
     "text": [
      "Listening...\n"
     ]
    },
    {
     "ename": "UnknownValueError",
     "evalue": "",
     "output_type": "error",
     "traceback": [
      "\u001b[1;31m---------------------------------------------------------------------------\u001b[0m",
      "\u001b[1;31mUnknownValueError\u001b[0m                         Traceback (most recent call last)",
      "Cell \u001b[1;32mIn[1], line 23\u001b[0m\n\u001b[0;32m     21\u001b[0m     \u001b[38;5;28mprint\u001b[39m(\u001b[38;5;124m\"\u001b[39m\u001b[38;5;124mListening...\u001b[39m\u001b[38;5;124m\"\u001b[39m)\n\u001b[0;32m     22\u001b[0m     audio \u001b[38;5;241m=\u001b[39m r\u001b[38;5;241m.\u001b[39mlisten(source)\n\u001b[1;32m---> 23\u001b[0m     text \u001b[38;5;241m=\u001b[39m \u001b[43mr\u001b[49m\u001b[38;5;241;43m.\u001b[39;49m\u001b[43mrecognize_google\u001b[49m\u001b[43m(\u001b[49m\u001b[43maudio\u001b[49m\u001b[43m)\u001b[49m\n\u001b[0;32m     24\u001b[0m     \u001b[38;5;28mprint\u001b[39m(text)\n\u001b[0;32m     27\u001b[0m \u001b[38;5;28;01mif\u001b[39;00m \u001b[38;5;124m\"\u001b[39m\u001b[38;5;124mwhat\u001b[39m\u001b[38;5;124m\"\u001b[39m \u001b[38;5;129;01mand\u001b[39;00m \u001b[38;5;124m\"\u001b[39m\u001b[38;5;124mabout\u001b[39m\u001b[38;5;124m\"\u001b[39m \u001b[38;5;129;01mand\u001b[39;00m \u001b[38;5;124m'\u001b[39m\u001b[38;5;124myou\u001b[39m\u001b[38;5;124m'\u001b[39m \u001b[38;5;129;01min\u001b[39;00m text:\n",
      "File \u001b[1;32mC:\\PYHTON 106\\lib\\site-packages\\speech_recognition\\__init__.py:728\u001b[0m, in \u001b[0;36mRecognizer.recognize_google\u001b[1;34m(self, audio_data, key, language, pfilter, show_all, with_confidence)\u001b[0m\n\u001b[0;32m    725\u001b[0m \u001b[38;5;28;01mif\u001b[39;00m show_all:\n\u001b[0;32m    726\u001b[0m     \u001b[38;5;28;01mreturn\u001b[39;00m actual_result\n\u001b[1;32m--> 728\u001b[0m \u001b[38;5;28;01mif\u001b[39;00m \u001b[38;5;129;01mnot\u001b[39;00m \u001b[38;5;28misinstance\u001b[39m(actual_result, \u001b[38;5;28mdict\u001b[39m) \u001b[38;5;129;01mor\u001b[39;00m \u001b[38;5;28mlen\u001b[39m(actual_result\u001b[38;5;241m.\u001b[39mget(\u001b[38;5;124m\"\u001b[39m\u001b[38;5;124malternative\u001b[39m\u001b[38;5;124m\"\u001b[39m, [])) \u001b[38;5;241m==\u001b[39m \u001b[38;5;241m0\u001b[39m: \u001b[38;5;28;01mraise\u001b[39;00m UnknownValueError()\n\u001b[0;32m    730\u001b[0m \u001b[38;5;28;01mif\u001b[39;00m \u001b[38;5;124m\"\u001b[39m\u001b[38;5;124mconfidence\u001b[39m\u001b[38;5;124m\"\u001b[39m \u001b[38;5;129;01min\u001b[39;00m actual_result[\u001b[38;5;124m\"\u001b[39m\u001b[38;5;124malternative\u001b[39m\u001b[38;5;124m\"\u001b[39m]:\n\u001b[0;32m    731\u001b[0m     \u001b[38;5;66;03m# return alternative with highest confidence score\u001b[39;00m\n\u001b[0;32m    732\u001b[0m     best_hypothesis \u001b[38;5;241m=\u001b[39m \u001b[38;5;28mmax\u001b[39m(actual_result[\u001b[38;5;124m\"\u001b[39m\u001b[38;5;124malternative\u001b[39m\u001b[38;5;124m\"\u001b[39m], key\u001b[38;5;241m=\u001b[39m\u001b[38;5;28;01mlambda\u001b[39;00m alternative: alternative[\u001b[38;5;124m\"\u001b[39m\u001b[38;5;124mconfidence\u001b[39m\u001b[38;5;124m\"\u001b[39m])\n",
      "\u001b[1;31mUnknownValueError\u001b[0m: "
     ]
    }
   ],
   "source": [
    "import pyttsx3 as ptt\n",
    "import speech_recognition as sr\n",
    "engine = ptt.init()\n",
    "rate = engine.getProperty('rate')\n",
    "engine.setProperty('rate',200 )\n",
    "voices = engine.getProperty('voices')\n",
    "engine.setProperty('voice',voices[1].id)\n",
    "\n",
    "def speak(text):\n",
    "    engine.say(text)\n",
    "    engine.runAndWait()\n",
    "\n",
    "\n",
    "r = sr.Recognizer()\n",
    "\n",
    "speak(\"Hello sir, I am your voice assistant Wanda. How are you?\")\n",
    "\n",
    "with sr.Microphone() as source:\n",
    "    r.energy_threshold = 10000\n",
    "    r.adjust_for_ambient_noise(source,1.2)\n",
    "    print(\"Listening...\")\n",
    "    audio = r.listen(source)\n",
    "    text = r.recognize_google(audio)\n",
    "    print(text)\n",
    "    \n",
    "\n",
    "if \"what\" and \"about\" and 'you' in text:\n",
    "    speak(\"I am having a good day. Thank you\")\n",
    "speak(\"What can i do for you?\")\n",
    "\n",
    "\n",
    "with sr.Microphone() as source:\n",
    "    r.energy_threshold = 10000\n",
    "    r.adjust_for_ambient_noise(source,1.2)\n",
    "    print(\"Listening...\")\n",
    "    audio = r.listen(source)\n",
    "    text2 = r.recognize_google(audio)\n",
    "    \n",
    "if \"information\" in text2:\n",
    "    print(\"What kind of information do you want?\")\n",
    "    speak(\"What kind of information do you want?\")\n",
    "    \n",
    "    \n",
    "    with sr.Microphone() as source:\n",
    "        r.energy_threshold = 10000\n",
    "        r.adjust_for_ambient_noise(source,1.2)\n",
    "        print(\"Listening...\")\n",
    "        audio = r.listen(source)\n",
    "        infor = r.recognize_google(audio)\n",
    "    \n",
    "    print(\"Searching for {} in wikipeadia\".format(infor))    \n",
    "    speak(\"Searching for {} in wikipeadia\".format(infor))\n",
    "    assist = Inform()\n",
    "    assist.get_info(infor)\n",
    "\n",
    "elif \"play\" and \"video\" in text2:\n",
    "    speak(\"What kind of video do you want to play?\")\n",
    "    \n",
    "    with sr.Microphone() as source:\n",
    "        r.energy_threshold = 10000\n",
    "        r.adjust_for_ambient_noise(source,1.2)\n",
    "        print(\"Listening...\")\n",
    "        audio = r.listen(source)\n",
    "        vid = r.recognize_google(audio)\n",
    "     \n",
    "    print(\"Searching for {} in Youtube\".format(vid))\n",
    "    speak(\"Searching for {} in Youtube\".format(vid))\n",
    "    assist = Play_Youtube()\n",
    "    assist.play_video(vid)"
   ]
  },
  {
   "cell_type": "code",
   "execution_count": null,
   "id": "c76274be",
   "metadata": {},
   "outputs": [],
   "source": [
    "from selenium import webdriver\n",
    "\n",
    "class Inform():\n",
    "\n",
    "    def __init__(self):\n",
    "        self.driver = webdriver.Chrome()\n",
    "\n",
    "    def get_info(self, query):\n",
    "        self.query = query\n",
    "        self.driver.get(url=\"https://www.wikipedia.org\")\n",
    "        search = self.driver.find_element('xpath','//*[@id=\"searchInput\"]')  # Corrected XPath\n",
    "        search.click()\n",
    "        search.send_keys(query)\n",
    "        enter = self.driver.find_element('xpath','//*[@id=\"search-form\"]/fieldset/button/i')\n",
    "        enter.click()"
   ]
  },
  {
   "cell_type": "code",
   "execution_count": null,
   "id": "b0a62754",
   "metadata": {},
   "outputs": [],
   "source": [
    "from selenium import webdriver\n",
    "\n",
    "class Play_Youtube():\n",
    "\n",
    "    def __init__(self):\n",
    "        self.driver = webdriver.Chrome()\n",
    "\n",
    "    def play_video(self, query):\n",
    "        self.query = query\n",
    "        self.driver.get(url=\"https://www.youtube.com/results?search_query=\" + query)\n",
    "        video = self.driver.find_element('xpath','//*[@id=\"dismissible\"]')  # Corrected XPath\n",
    "        video.click()\n",
    "        "
   ]
  },
  {
   "cell_type": "code",
   "execution_count": null,
   "id": "c6a9ba3a",
   "metadata": {},
   "outputs": [],
   "source": [
    "from selenium import webdriver\n",
    "\n",
    "class Inform:\n",
    "\n",
    "    def __init__(self):\n",
    "        self.driver = webdriver.Chrome()\n",
    "\n",
    "    def get_info(self, query):\n",
    "        self.query = query\n",
    "        self.driver.get(\"https://www.wikipedia.org\")\n",
    "        \n",
    "        # Locate the search input element and send the query\n",
    "        search_input = self.driver.find_element('xpath','//input[@id=\"searchInput\"]')\n",
    "        search_input.send_keys(query)\n",
    "        \n",
    "        # Locate and click the search button\n",
    "        search_button = self.driver.find_element('xpath','//button[@type=\"submit\"]')\n",
    "        search_button.click()\n",
    "\n",
    "assist = Inform()\n",
    "assist.get_info(\"black hole\")\n"
   ]
  },
  {
   "cell_type": "code",
   "execution_count": null,
   "id": "89102b97",
   "metadata": {},
   "outputs": [],
   "source": []
  },
  {
   "cell_type": "code",
   "execution_count": null,
   "id": "da6719ba",
   "metadata": {},
   "outputs": [],
   "source": []
  }
 ],
 "metadata": {
  "kernelspec": {
   "display_name": "Python 3 (ipykernel)",
   "language": "python",
   "name": "python3"
  },
  "language_info": {
   "codemirror_mode": {
    "name": "ipython",
    "version": 3
   },
   "file_extension": ".py",
   "mimetype": "text/x-python",
   "name": "python",
   "nbconvert_exporter": "python",
   "pygments_lexer": "ipython3",
   "version": "3.10.6"
  }
 },
 "nbformat": 4,
 "nbformat_minor": 5
}
